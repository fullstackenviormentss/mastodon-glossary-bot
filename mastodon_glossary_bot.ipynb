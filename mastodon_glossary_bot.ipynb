{
 "cells": [
  {
   "cell_type": "code",
   "execution_count": null,
   "metadata": {
    "collapsed": true
   },
   "outputs": [],
   "source": [
    "import json\n",
    "import re\n",
    "\n",
    "import pandas as pd\n",
    "from mastodon import Mastodon\n"
   ]
  },
  {
   "cell_type": "markdown",
   "metadata": {},
   "source": [
    "# Load acronyms"
   ]
  },
  {
   "cell_type": "code",
   "execution_count": null,
   "metadata": {
    "collapsed": true
   },
   "outputs": [],
   "source": [
    "def load_acronyms():\n",
    "    RCAUAF_filename = 'RCAUAF/RCAUAF.csv'\n",
    "    RCAUAF = pd.read_csv(RCAUAF_filename, sep='\\t')\n",
    "    RCAUAF['key'] = RCAUAF.term.apply(str.upper)\n",
    "    RCAUAF\n",
    "    RCAUAF_keys = set(RCAUAF.key)\n",
    "    \n",
    "    return RCAUAF, RCAUAF_keys\n",
    "\n",
    "RCAUAF, RCAUAF_keys = load_acronyms()"
   ]
  },
  {
   "cell_type": "markdown",
   "metadata": {},
   "source": [
    "# Create mastodon instance"
   ]
  },
  {
   "cell_type": "code",
   "execution_count": null,
   "metadata": {
    "collapsed": true
   },
   "outputs": [],
   "source": [
    "mastodon = Mastodon(\n",
    "    client_id='clientcred.txt',\n",
    "    access_token='usercred.txt',\n",
    "    api_base_url='https://mastodon.etalab.gouv.fr',\n",
    ")\n"
   ]
  },
  {
   "cell_type": "markdown",
   "metadata": {
    "collapsed": true
   },
   "source": [
    "# Streaming"
   ]
  },
  {
   "cell_type": "code",
   "execution_count": null,
   "metadata": {
    "collapsed": true
   },
   "outputs": [],
   "source": [
    "def process_update(content):\n",
    "    print('Update : ' + json.dumps(content))\n",
    "\n",
    "def process_notification(content):\n",
    "    print('Notification : ' + json.dumps(content))\n",
    "    if content['type'] == 'mention':\n",
    "        texte_html = content['status']['content']\n",
    "        texte = re.sub(r'<[^>]*>', '', texte_html)\n",
    "        words = sorted(set(texte.upper().split(' ')))\n",
    "        acronyms = [w for w in words if w in RCAUAF_keys]\n",
    "        \n",
    "        toot = '@{}\\n\\n'.format(content['account']['username'])\n",
    "        if acronyms:\n",
    "            for a in acronyms:\n",
    "                rows = RCAUAF[RCAUAF.key == a]\n",
    "                definitions = list(rows.definition)\n",
    "                for index, row in rows.iterrows():\n",
    "                    toot += '{} = {}\\n\\n'.format(row['term'], row['definition'].encode('latin-1').decode('unicode_escape'))\n",
    "        else:\n",
    "            toot += \"Je n'ai rien trouvé :(\"\n",
    "        toot = toot[:499]\n",
    "        \n",
    "        mastodon.status_post(\n",
    "            toot,\n",
    "            in_reply_to_id=content['status']['id'],\n",
    "            media_ids=None,\n",
    "            sensitive=False,\n",
    "            visibility=content['status']['visibility'],\n",
    "            spoiler_text=None,\n",
    "        )\n",
    "\n",
    "def process_delete(content):\n",
    "    print('Delete : ' + json.dumps(content))\n",
    "\n",
    "\n",
    "class StreamListener():\n",
    "    def handle_stream(self, stream):\n",
    "        event = None\n",
    "        \n",
    "        for l_b in stream:\n",
    "            l_unicode = l_b.decode('utf-8')\n",
    "            if not l_unicode:\n",
    "                continue\n",
    "            semicolon_index = l_unicode.index(':')\n",
    "            message_type = l_unicode[:semicolon_index]\n",
    "            content = l_unicode[semicolon_index+2:]\n",
    "            \n",
    "            if message_type == 'event':\n",
    "                assert content in {'update', 'notification', 'delete'}\n",
    "                assert event is None\n",
    "                event = content\n",
    "            elif message_type == 'data':\n",
    "                assert event is not None\n",
    "                content_parsed = json.loads(content)\n",
    "                \n",
    "                if event == 'update':\n",
    "                    process_update(content_parsed)\n",
    "                elif event == 'notification':\n",
    "                    process_notification(content_parsed)\n",
    "                elif event == 'delete':\n",
    "                    process_delete(content_parsed)\n",
    "                \n",
    "                event = None                \n",
    "            else:\n",
    "                assert message_type == ''\n",
    "\n",
    "stream_listener = StreamListener()"
   ]
  },
  {
   "cell_type": "code",
   "execution_count": null,
   "metadata": {},
   "outputs": [],
   "source": [
    "mastodon.user_stream(listener=stream_listener)"
   ]
  }
 ],
 "metadata": {
  "kernelspec": {
   "display_name": "Python 3",
   "language": "python",
   "name": "python3"
  },
  "language_info": {
   "codemirror_mode": {
    "name": "ipython",
    "version": 3
   },
   "file_extension": ".py",
   "mimetype": "text/x-python",
   "name": "python",
   "nbconvert_exporter": "python",
   "pygments_lexer": "ipython3",
   "version": "3.5.2"
  }
 },
 "nbformat": 4,
 "nbformat_minor": 2
}
